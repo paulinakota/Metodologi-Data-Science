{
  "nbformat": 4,
  "nbformat_minor": 0,
  "metadata": {
    "colab": {
      "name": "Klasifikasi.ipynb",
      "provenance": [],
      "collapsed_sections": []
    },
    "kernelspec": {
      "name": "python3",
      "display_name": "Python 3"
    },
    "language_info": {
      "name": "python"
    }
  },
  "cells": [
    {
      "cell_type": "markdown",
      "source": [
        "##1. Mengambil Dataset"
      ],
      "metadata": {
        "id": "kWrI_t1qcJdW"
      }
    },
    {
      "cell_type": "markdown",
      "source": [
        "Mengambil dataset dengan sklearn"
      ],
      "metadata": {
        "id": "VcdT-kDrcjhv"
      }
    },
    {
      "cell_type": "code",
      "execution_count": null,
      "metadata": {
        "id": "UQcr7OOubydK"
      },
      "outputs": [],
      "source": [
        "from sklearn import datasets\n",
        "iris = datasets.load_iris() \n",
        "X = iris.data\n",
        "y = iris.target"
      ]
    },
    {
      "cell_type": "code",
      "source": [
        "print('Banyak data: ', len(X))"
      ],
      "metadata": {
        "colab": {
          "base_uri": "https://localhost:8080/"
        },
        "id": "lEPn7my2cqRG",
        "outputId": "d31bf02f-4f8e-44a1-8be6-bd0e7798c5b9"
      },
      "execution_count": null,
      "outputs": [
        {
          "output_type": "stream",
          "name": "stdout",
          "text": [
            "Banyak data:  150\n"
          ]
        }
      ]
    },
    {
      "cell_type": "code",
      "source": [
        "print('15 data pertama: ')\n",
        "print(X[:15])"
      ],
      "metadata": {
        "colab": {
          "base_uri": "https://localhost:8080/"
        },
        "id": "DxiCzjiBcxZx",
        "outputId": "e498c08a-89e7-4477-f3c4-23654ac597ac"
      },
      "execution_count": null,
      "outputs": [
        {
          "output_type": "stream",
          "name": "stdout",
          "text": [
            "15 data pertama: \n",
            "[[5.1 3.5 1.4 0.2]\n",
            " [4.9 3.  1.4 0.2]\n",
            " [4.7 3.2 1.3 0.2]\n",
            " [4.6 3.1 1.5 0.2]\n",
            " [5.  3.6 1.4 0.2]\n",
            " [5.4 3.9 1.7 0.4]\n",
            " [4.6 3.4 1.4 0.3]\n",
            " [5.  3.4 1.5 0.2]\n",
            " [4.4 2.9 1.4 0.2]\n",
            " [4.9 3.1 1.5 0.1]\n",
            " [5.4 3.7 1.5 0.2]\n",
            " [4.8 3.4 1.6 0.2]\n",
            " [4.8 3.  1.4 0.1]\n",
            " [4.3 3.  1.1 0.1]\n",
            " [5.8 4.  1.2 0.2]]\n"
          ]
        }
      ]
    },
    {
      "cell_type": "markdown",
      "source": [
        "##2. Melakukan Split Data"
      ],
      "metadata": {
        "id": "x0FuYrFWc3Mx"
      }
    },
    {
      "cell_type": "code",
      "source": [
        "from sklearn.model_selection import train_test_split\n",
        "X_train, X_test, y_train, y_test = train_test_split(X, y, train_size = 0.7)"
      ],
      "metadata": {
        "id": "qGH5rLuuc1qU"
      },
      "execution_count": null,
      "outputs": []
    },
    {
      "cell_type": "code",
      "source": [
        "print('Banyaknya data training: ', len(X_train))\n",
        "print('Banyaknya data testing: ', len(X_test))"
      ],
      "metadata": {
        "colab": {
          "base_uri": "https://localhost:8080/"
        },
        "id": "v09t54NrdF5o",
        "outputId": "d498116c-5295-4758-ba0b-217c26b38dd9"
      },
      "execution_count": null,
      "outputs": [
        {
          "output_type": "stream",
          "name": "stdout",
          "text": [
            "Banyaknya data training:  105\n",
            "Banyaknya data testing:  45\n"
          ]
        }
      ]
    },
    {
      "cell_type": "markdown",
      "source": [
        "Melakukan Split Data dengan K-Flod"
      ],
      "metadata": {
        "id": "oYzJY1WhdVxB"
      }
    },
    {
      "cell_type": "code",
      "source": [
        "from sklearn.model_selection import cross_val_score\n",
        "from sklearn.svm import SVC\n",
        "\n",
        "model = SVC(kernel = 'linear', C=1)\n",
        "scores = cross_val_score(model, X, y, cv = 5)\n",
        "\n",
        "print('Akurasi SVM untuk setiap fold: ', scores)\n",
        "print('Akurasi SVM dengan 5-fold: ', scores.mean())"
      ],
      "metadata": {
        "colab": {
          "base_uri": "https://localhost:8080/"
        },
        "id": "39FGFdcRdROy",
        "outputId": "1ca22ac2-97cd-4e82-e40f-9e0234b295bb"
      },
      "execution_count": null,
      "outputs": [
        {
          "output_type": "stream",
          "name": "stdout",
          "text": [
            "Akurasi SVM untuk setiap fold:  [0.96666667 1.         0.96666667 0.96666667 1.        ]\n",
            "Akurasi SVM dengan 5-fold:  0.9800000000000001\n"
          ]
        }
      ]
    },
    {
      "cell_type": "markdown",
      "source": [
        "##3. Model Evaluasi Klasifikasi"
      ],
      "metadata": {
        "id": "lRboJ3pQdpEh"
      }
    },
    {
      "cell_type": "markdown",
      "source": [
        "1. KKN(Model Evaluasi Klasifikasi)\n",
        "    \n",
        "    Sumber KNN di sklearn: https://scikit-learn.org/stable/modules/generated/sklearn.neighbors.KNeighborsClassifier.html#sklearn.neighbors.KNeighborsClassifier"
      ],
      "metadata": {
        "id": "NYxnFuw9dq9D"
      }
    },
    {
      "cell_type": "code",
      "source": [
        "from sklearn.neighbors import KNeighborsClassifier\n",
        "from sklearn import metrics\n",
        "\n",
        "knn = KNeighborsClassifier()\n",
        "\n",
        "knn.fit(X_train, y_train)\n",
        "y_pred = knn.predict(X_test)\n",
        "score = metrics.accuracy_score(y_test, y_pred)\n",
        "print('Akurasi KKN model sebesar: ', score)"
      ],
      "metadata": {
        "colab": {
          "base_uri": "https://localhost:8080/"
        },
        "id": "pmMnXpmsdi5J",
        "outputId": "76018614-043c-4174-a7f0-146b92d68d8e"
      },
      "execution_count": null,
      "outputs": [
        {
          "output_type": "stream",
          "name": "stdout",
          "text": [
            "Akurasi KKN model sebesar:  0.9333333333333333\n"
          ]
        }
      ]
    },
    {
      "cell_type": "markdown",
      "source": [
        "2. Decision Tree\n",
        "\n",
        "    Sumber Decision Tree di sklearn: https://scikit-learn.org/stable/modules/generated/sklearn.tree.DecisionTreeClassifier.html#sklearn.tree.DecisionTreeClassifier"
      ],
      "metadata": {
        "id": "SJzjFZNLffBG"
      }
    },
    {
      "cell_type": "code",
      "source": [
        "from sklearn.tree import DecisionTreeClassifier\n",
        "from sklearn import metrics\n",
        "\n",
        "dt = DecisionTreeClassifier(max_depth = None, min_samples_split = 2)\n",
        "dt.fit(X_train, y_train)\n",
        "y_pred = dt.predict(X_test)\n",
        "score = metrics.accuracy_score(y_test, y_pred)\n",
        "print('Akurasi Decision Tree model sebesar : ', score)"
      ],
      "metadata": {
        "colab": {
          "base_uri": "https://localhost:8080/"
        },
        "id": "w--Xw3XefttO",
        "outputId": "7621ffb7-4835-4841-e373-0df39af8f9da"
      },
      "execution_count": null,
      "outputs": [
        {
          "output_type": "stream",
          "name": "stdout",
          "text": [
            "Akurasi Decision Tree model sebesar :  0.9555555555555556\n"
          ]
        }
      ]
    },
    {
      "cell_type": "code",
      "source": [
        "dt = DecisionTreeClassifier(max_depth = 1, min_samples_split = 2)\n",
        "dt.fit(X_train, y_train)\n",
        "y_pred = dt.predict(X_test)\n",
        "score = metrics.accuracy_score(y_test, y_pred)\n",
        "print('Akurasi Decision Tree model sebesar : ', score)"
      ],
      "metadata": {
        "colab": {
          "base_uri": "https://localhost:8080/"
        },
        "id": "2i-13Svxfy87",
        "outputId": "bbe8da38-3f65-415a-ccec-4f42cba00edf"
      },
      "execution_count": null,
      "outputs": [
        {
          "output_type": "stream",
          "name": "stdout",
          "text": [
            "Akurasi Decision Tree model sebesar :  0.5111111111111111\n"
          ]
        }
      ]
    },
    {
      "cell_type": "markdown",
      "source": [
        "3.SVM\n",
        "\n",
        "    SVM Tree di sklearn: https://scikit-learn.org/stable/modules/generated/sklearn.svm.SVC.html"
      ],
      "metadata": {
        "id": "OYNywIQ3epZ0"
      }
    },
    {
      "cell_type": "code",
      "source": [
        "from sklearn.svm import SVC\n",
        "from sklearn import metrics\n",
        "\n",
        "svm = SVC(kernel = 'rbf', C = 1, gamma = 0.01)\n",
        "svm.fit(X_train, y_train)\n",
        "y_pred = svm.predict(X_test)\n",
        "score = metrics.accuracy_score(y_test, y_pred)\n",
        "print('Akurasi SVM model sebesar : ', score)"
      ],
      "metadata": {
        "colab": {
          "base_uri": "https://localhost:8080/"
        },
        "id": "xwNol-gZenL0",
        "outputId": "81632055-9556-4203-d6c9-288cc8b46d36"
      },
      "execution_count": null,
      "outputs": [
        {
          "output_type": "stream",
          "name": "stdout",
          "text": [
            "Akurasi SVM model sebesar :  0.8444444444444444\n"
          ]
        }
      ]
    },
    {
      "cell_type": "code",
      "source": [
        "svmLinear = SVC(kernel = 'linear', C = 1, gamma = 0.01)\n",
        "svmLinear.fit(X_train, y_train)\n",
        "y_pred = svmLinear.predict(X_test)\n",
        "score = metrics.accuracy_score(y_test, y_pred)\n",
        "print('Akurasi SVM-Linear model sebesar : ', score)"
      ],
      "metadata": {
        "colab": {
          "base_uri": "https://localhost:8080/"
        },
        "id": "679lyPiFfHRG",
        "outputId": "9970552a-59c3-44e1-d1ee-8414026f8bc5"
      },
      "execution_count": null,
      "outputs": [
        {
          "output_type": "stream",
          "name": "stdout",
          "text": [
            "Akurasi SVM-Linear model sebesar :  0.9333333333333333\n"
          ]
        }
      ]
    },
    {
      "cell_type": "markdown",
      "source": [
        "4. Logistic Regression\n",
        "\n",
        "    Sumber Logistic Regression di sklearn: https://scikit-learn.org/stable/modules/generated/sklearn.linear_model.LogisticRegression.html#sklearn.linear_model.LogisticRegression"
      ],
      "metadata": {
        "id": "xTwH0zX-gHgV"
      }
    },
    {
      "cell_type": "code",
      "source": [
        "from sklearn.linear_model import LogisticRegression\n",
        "from sklearn import metrics\n",
        "\n",
        "lr = LogisticRegression()\n",
        "lr.fit(X_train, y_train)\n",
        "y_pred = lr.predict(X_test)\n",
        "score = metrics.accuracy_score(y_test, y_pred)\n",
        "print('Akurasi Logistic Regression model sebesar : ', score)"
      ],
      "metadata": {
        "colab": {
          "base_uri": "https://localhost:8080/"
        },
        "id": "8Pz46nmPgOoD",
        "outputId": "f0dfbb99-36fc-4056-cd53-da3201794d79"
      },
      "execution_count": null,
      "outputs": [
        {
          "output_type": "stream",
          "name": "stdout",
          "text": [
            "Akurasi Logistic Regression model sebesar :  0.9111111111111111\n"
          ]
        },
        {
          "output_type": "stream",
          "name": "stderr",
          "text": [
            "/usr/local/lib/python3.7/dist-packages/sklearn/linear_model/_logistic.py:818: ConvergenceWarning: lbfgs failed to converge (status=1):\n",
            "STOP: TOTAL NO. of ITERATIONS REACHED LIMIT.\n",
            "\n",
            "Increase the number of iterations (max_iter) or scale the data as shown in:\n",
            "    https://scikit-learn.org/stable/modules/preprocessing.html\n",
            "Please also refer to the documentation for alternative solver options:\n",
            "    https://scikit-learn.org/stable/modules/linear_model.html#logistic-regression\n",
            "  extra_warning_msg=_LOGISTIC_SOLVER_CONVERGENCE_MSG,\n"
          ]
        }
      ]
    },
    {
      "cell_type": "markdown",
      "source": [
        "5. Naive Bayes\n",
        "\n",
        "  Sumber Naive Bayes di sklearn: https://scikit-learn.org/stable/modules/generated/sklearn.naive_bayes.BernoulliNB.html#sklearn.naive_bayes.BernoulliNB"
      ],
      "metadata": {
        "id": "ctYWXleVgVJk"
      }
    },
    {
      "cell_type": "code",
      "source": [
        "from sklearn.naive_bayes import BernoulliNB\n",
        "from sklearn import metrics\n",
        "\n",
        "nb = BernoulliNB()\n",
        "nb.fit(X_train, y_train)\n",
        "y_pred = nb.predict(X_test)\n",
        "score = metrics.accuracy_score(y_test, y_pred)\n",
        "print('Akurasi model Naive Bayes sebesar : ', score)"
      ],
      "metadata": {
        "colab": {
          "base_uri": "https://localhost:8080/"
        },
        "id": "7yyF-vRlggD0",
        "outputId": "01c3202c-44dc-4cc0-9fd4-787cc718cbb8"
      },
      "execution_count": null,
      "outputs": [
        {
          "output_type": "stream",
          "name": "stdout",
          "text": [
            "Akurasi model Naive Bayes sebesar :  0.24444444444444444\n"
          ]
        }
      ]
    },
    {
      "cell_type": "markdown",
      "source": [
        "GausianNB bagian dari Naive Bayes\n",
        "\n",
        "Sumber GausianNB di sklearn: https://scikit-learn.org/stable/modules/generated/sklearn.naive_bayes.GaussianNB.html#sklearn.naive_bayes.GaussianNB"
      ],
      "metadata": {
        "id": "FOY0bPh7gw3_"
      }
    },
    {
      "cell_type": "code",
      "source": [
        "from sklearn.naive_bayes import GaussianNB\n",
        "from sklearn import metrics\n",
        "\n",
        "nb = GaussianNB()\n",
        "nb.fit(X_train, y_train)\n",
        "y_pred = nb.predict(X_test)\n",
        "score = metrics.accuracy_score(y_test, y_pred)\n",
        "print('Akurasi Naive Bayes model sebesar : ', score)"
      ],
      "metadata": {
        "colab": {
          "base_uri": "https://localhost:8080/"
        },
        "id": "0ZLZ_STPg-kC",
        "outputId": "e1a841ef-f0a9-4e67-95b5-0f4a3a919a40"
      },
      "execution_count": null,
      "outputs": [
        {
          "output_type": "stream",
          "name": "stdout",
          "text": [
            "Akurasi Naive Bayes model sebesar :  0.9777777777777777\n"
          ]
        }
      ]
    }
  ]
}